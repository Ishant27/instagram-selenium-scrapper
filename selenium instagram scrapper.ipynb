{
 "cells": [
  {
   "cell_type": "code",
   "execution_count": 4,
   "metadata": {},
   "outputs": [],
   "source": [
    "from selenium import webdriver\n",
    "path=\"C:\\Users\\User\\Downloads\\chromedriver_win32\\chromedriver.exe\"  #add chromedriver path\n",
    "driver=webdriver.Chrome(path)\n",
    "from time import sleep\n",
    "from math import ceil\n",
    "\"\"\"\n",
    "~`@Image scrapper using selenium. Scrapping hashtag images from instagram\n",
    "~`@for dataset creation.\n",
    "`~@Just change your uername and password.\n",
    "`!@Enter the hasthtag with an integer value limit.\n",
    "@!`Rishabh Jain\n",
    "\"\"\""
   ]
  },
  {
   "cell_type": "code",
   "execution_count": 5,
   "metadata": {},
   "outputs": [],
   "source": [
    "from selenium.webdriver.common.keys import Keys\n",
    "import urllib\n",
    "import os"
   ]
  },
  {
   "cell_type": "code",
   "execution_count": 8,
   "metadata": {
    "scrolled": true
   },
   "outputs": [],
   "source": [
    "driver.get('https://www.instagram.com/accounts/login')\n",
    "username = driver.find_element_by_xpath('//*[@name=\"username\"]')\n",
    "password = driver.find_element_by_xpath('//*[@name=\"password\"]')\n",
    "username.send_keys(\"username\")  #enter username\n",
    "password.send_keys(\"pass\") #enter password\n",
    "\n",
    "sleep(3)\n",
    "\n",
    "a=driver.find_element_by_css_selector(\"._5f5mN\").click()\n",
    "\n"
   ]
  },
  {
   "cell_type": "code",
   "execution_count": 17,
   "metadata": {},
   "outputs": [
    {
     "name": "stdout",
     "output_type": "stream",
     "text": [
      "Enter the hashtag and limit: kittens 100\n"
     ]
    }
   ],
   "source": [
    "\n",
    "inp=raw_input(\"Enter the hashtag and limit: \")\n",
    "inp=inp.split(\" \")\n",
    "inpu=inp[0]\n",
    "limit=inp[-1]\n"
   ]
  },
  {
   "cell_type": "code",
   "execution_count": 22,
   "metadata": {},
   "outputs": [
    {
     "name": "stdout",
     "output_type": "stream",
     "text": [
      "1\n",
      "5\n",
      "5\n",
      "5\n",
      "5\n",
      "5\n",
      "5\n",
      "5\n",
      "5\n",
      "5\n",
      "5\n",
      "5\n",
      "5\n",
      "5\n",
      "5\n",
      "5\n",
      "5\n",
      "5\n",
      "5\n",
      "5\n",
      "5\n",
      "5\n",
      "5\n",
      "5\n",
      "5\n",
      "5\n",
      "5\n",
      "5\n",
      "5\n",
      "5\n",
      "5\n",
      "5\n",
      "5\n",
      "5\n",
      "5\n",
      "5\n",
      "5\n",
      "5\n",
      "5\n",
      "5\n",
      "5\n",
      "5\n",
      "5\n",
      "5\n",
      "5\n",
      "5\n",
      "5\n",
      "5\n",
      "5\n",
      "5\n",
      "5\n",
      "5\n",
      "5\n",
      "5\n",
      "5\n",
      "5\n",
      "5\n",
      "5\n",
      "5\n",
      "5\n",
      "5\n",
      "1\n",
      "1\n",
      "1\n",
      "1\n",
      "1\n",
      "1\n",
      "1\n",
      "1\n",
      "1\n",
      "1\n",
      "1\n",
      "1\n",
      "['https://scontent-bom1-1.cdninstagram.com/vp/91e38a8986f53a9b5b085ff5d8d2347b/5B3DEB01/t51.2885-15/e35/35001818_167757084086452_5080614765462552576_n.jpg', 'https://scontent-bom1-1.cdninstagram.com/vp/c7c0943f9ec081ec717292350c8fdf03/5B3D6DAE/t51.2885-15/e35/36136110_196729120989169_7557081960464515072_n.jpg?efg=eyJ1cmxnZW4iOiJ1cmxnZW5fZnJvbV9pZyJ9', 'https://scontent-bom1-1.cdninstagram.com/vp/f21c05a5c778dfaefcedcf5f5c10f4aa/5BC6248E/t51.2885-15/sh0.08/e35/s640x640/36149247_281902629048088_1930019734292529152_n.jpg?efg=eyJ1cmxnZW4iOiJ1cmxnZW5fZnJvbV9pZyJ9', 'https://scontent-bom1-1.cdninstagram.com/vp/4e970b2da53c029f0c90e4afd8d2858b/5B3DEC5A/t51.2885-15/e35/c142.0.356.356/36136342_193158261530063_1821895431559315456_n.jpg', 'https://scontent-bom1-1.cdninstagram.com/vp/83b79d8f45bfdff0931e72647e212819/5B3DC255/t51.2885-15/e15/34646244_184980098839564_4872695553282015232_n.jpg?efg=eyJ1cmxnZW4iOiJ1cmxnZW5fZnJvbV9pZyJ9', 'https://scontent-bom1-1.cdninstagram.com/vp/0cd995106a4a7feeac4845a43e44e2c7/5B3DA767/t51.2885-15/e35/c0.80.640.640/36148306_899904960194716_3266843762759827456_n.jpg', 'https://scontent-bom1-1.cdninstagram.com/vp/f64c54e6e276abfd8954d407b89cb507/5B3D99EF/t51.2885-15/e35/35617559_2194182277467997_5995912845026394112_n.jpg', 'https://scontent-bom1-1.cdninstagram.com/vp/6fa9805efa9a806b825d1bd10be68962/5B3D8A96/t51.2885-15/e35/c0.80.640.640/36113492_233555317246210_2017868883695763456_n.jpg', 'https://scontent-bom1-1.cdninstagram.com/vp/595e1349329cc073835840e43bd3bc3a/5B3D9053/t51.2885-15/e35/c0.80.640.640/35575355_198101207697450_1982984184360075264_n.jpg?efg=eyJ1cmxnZW4iOiJ1cmxnZW5fZnJvbV9pZyJ9', 'https://scontent-bom1-1.cdninstagram.com/vp/30d82633bf3d18bc4727c027d3040ff2/5BC823DB/t51.2885-15/s640x640/sh0.08/e35/36136311_2044700375781040_1927226450771968000_n.jpg', 'https://scontent-bom1-1.cdninstagram.com/vp/96b92ab23583aa8b113ebd317556527b/5BCDE6DF/t51.2885-15/s640x640/sh0.08/e35/35459630_680774248981897_5195319606633299968_n.jpg', 'https://scontent-bom1-1.cdninstagram.com/vp/69ab616d272a7a0a71da2c95a353326a/5BE12C21/t51.2885-15/s640x640/sh0.08/e35/35575665_223898351554093_1002221414406684672_n.jpg', 'https://scontent-bom1-1.cdninstagram.com/vp/4fbf265ca43ff652d9e5be45feaa4e3d/5BDFA503/t51.2885-15/s640x640/sh0.08/e35/35293936_1085466524924603_825740679933067264_n.jpg', 'https://scontent-bom1-1.cdninstagram.com/vp/0e870f925b763cbb23e1566504145307/5BC94AC6/t51.2885-15/s640x640/sh0.08/e35/35999631_1711517372297115_7065889481651388416_n.jpg', 'https://scontent-bom1-1.cdninstagram.com/vp/a43a26422c8a10e924404948bd62eeee/5BD8FB95/t51.2885-15/s640x640/sh0.08/e35/36554143_665702993778290_7749867301326815232_n.jpg', 'https://scontent-bom1-1.cdninstagram.com/vp/603b898f32e8699a443c168c0ea1a9da/5BEB3726/t51.2885-15/s640x640/sh0.08/e35/35129109_189583961677283_8073388508921724928_n.jpg', 'https://scontent-bom1-1.cdninstagram.com/vp/f57a595b590e85334f13bd437dcbfe6b/5BDCF3E1/t51.2885-15/s640x640/sh0.08/e35/35338562_396567514195905_5834073589640331264_n.jpg', 'https://scontent-bom1-1.cdninstagram.com/vp/de7915541f8b301237ddb66caaa7771a/5BDBBE9D/t51.2885-15/s640x640/sh0.08/e35/c0.135.1080.1080/35574476_216333595676267_4813216316431269888_n.jpg', 'https://scontent-bom1-1.cdninstagram.com/vp/178b20bdbc1a811147f932b071be64a6/5B3D9BDA/t51.2885-15/s640x640/e15/36122909_2091494970878188_6536555021780123648_n.jpg', 'https://scontent-bom1-1.cdninstagram.com/vp/726dfc5cf05adf6304fdb5beef4c0aa1/5BD3378E/t51.2885-15/s640x640/sh0.08/e35/36149194_256476838266493_9103381306418397184_n.jpg', 'https://scontent-bom1-1.cdninstagram.com/vp/051d2e09173b3a8e19d96169551d5fc6/5BCCA2B1/t51.2885-15/s640x640/sh0.08/e35/c135.0.810.810/35576116_194927304514564_7638507217477435392_n.jpg', 'https://scontent-bom1-1.cdninstagram.com/vp/c693c6865bc546e779b774d5931d0515/5BD58478/t51.2885-15/s640x640/sh0.08/e35/c2.0.1075.1075/36136390_2170128559924332_3273736193132462080_n.jpg', 'https://scontent-bom1-1.cdninstagram.com/vp/737af63c70fa7306849af32941d2937b/5BE9916C/t51.2885-15/sh0.08/e35/s640x640/35616314_231162657493249_4032070604055117824_n.jpg?efg=eyJ1cmxnZW4iOiJ1cmxnZW5fZnJvbV9pZyJ9', 'https://scontent-bom1-1.cdninstagram.com/vp/50ac7b79dfeaf1e38c0ec24ab46cd5e0/5BE79828/t51.2885-15/s640x640/sh0.08/e35/35574422_2085631881699703_1229162783338135552_n.jpg', 'https://scontent-bom1-1.cdninstagram.com/vp/3aee276633e311b100a08ade0fff6e95/5BD7FF70/t51.2885-15/s640x640/sh0.08/e35/35617705_642885162777151_1760565239897653248_n.jpg', 'https://scontent-bom1-1.cdninstagram.com/vp/a3b24f2a811a45946c8a0c41dc33841c/5BE253B2/t51.2885-15/sh0.08/e35/s640x640/36148112_202192130620465_1192830942016700416_n.jpg?efg=eyJ1cmxnZW4iOiJ1cmxnZW5fZnJvbV9pZyJ9', 'https://scontent-bom1-1.cdninstagram.com/vp/3cf53871eb4e1d3723419637cba83fec/5BCC7616/t51.2885-15/s640x640/sh0.08/e35/35928157_287825525122639_7072769868935725056_n.jpg', 'https://scontent-bom1-1.cdninstagram.com/vp/51dbae2f70c31188ff15f805376ff997/5B3D6804/t51.2885-15/e15/c0.76.612.612/35998820_396861977388458_3640149044384235520_n.jpg?efg=eyJ1cmxnZW4iOiJ1cmxnZW5fZnJvbV9pZyJ9', 'https://scontent-bom1-1.cdninstagram.com/vp/7ee7401be5b027b8e6cc347ef553c9d9/5BCD8F2B/t51.2885-15/e35/c14.0.291.291/35505095_2008157869499173_887860810569744384_n.jpg', 'https://scontent-bom1-1.cdninstagram.com/vp/081e093ad358cfdb719ed3b9db7daab6/5B3DE866/t51.2885-15/e35/c0.80.640.640/35999827_192644971418429_2812078675405570048_n.jpg', 'https://scontent-bom1-1.cdninstagram.com/vp/08ceb13ec15079874eac9b4a9da111f1/5BCA5DF2/t51.2885-15/e35/c251.0.578.578/35616247_244496773003435_6745598609154113536_n.jpg', 'https://scontent-bom1-1.cdninstagram.com/vp/b470acc55bcf57ca560e3c477c41cb86/5BC930A1/t51.2885-15/sh0.08/e35/s640x640/35000674_260376464541914_611589968422240256_n.jpg?efg=eyJ1cmxnZW4iOiJ1cmxnZW5fZnJvbV9pZyJ9', 'https://scontent-bom1-1.cdninstagram.com/vp/1423e99679c4fee88d01a3cbb62cb8f6/5BE5D9ED/t51.2885-15/s640x640/sh0.08/e35/c135.0.810.810/36148837_240523343403072_1673708880774823936_n.jpg', 'https://scontent-bom1-1.cdninstagram.com/vp/96b43c271b4e9b6b43729c19c7f67753/5BD22F09/t51.2885-15/sh0.08/e35/c0.135.1080.1080/s640x640/35575020_1832163587092214_3387235733335965696_n.jpg?efg=eyJ1cmxnZW4iOiJ1cmxnZW5fZnJvbV9pZyJ9', 'https://scontent-bom1-1.cdninstagram.com/vp/4c580c6cddd94969fade93955148250e/5BE93B1A/t51.2885-15/s640x640/sh0.08/e35/35575001_270689540160784_7178461270264250368_n.jpg', 'https://scontent-bom1-1.cdninstagram.com/vp/fcc86c7b939246c80a8379f193463fd4/5BCF7511/t51.2885-15/sh0.08/e35/s640x640/35618131_242708203186596_1347591640327389184_n.jpg?efg=eyJ1cmxnZW4iOiJ1cmxnZW5fZnJvbV9pZyJ9', 'https://scontent-bom1-1.cdninstagram.com/vp/07289133b2dcb35411fbd1670aee4050/5BE53C09/t51.2885-15/s640x640/sh0.08/e35/36086502_245947929332823_2662435516527411200_n.jpg', 'https://scontent-bom1-1.cdninstagram.com/vp/4545b6a3990455b5572c3fc544db67ab/5B3D7144/t51.2885-15/e15/c0.76.612.612/36135756_859589184235853_4558194258045042688_n.jpg', 'https://scontent-bom1-1.cdninstagram.com/vp/1ba73c8a17d902a1da14dae62d0069af/5BD7AEB5/t51.2885-15/s640x640/sh0.08/e35/c0.135.1080.1080/35934553_216771528953134_3916056811471372288_n.jpg', 'https://scontent-bom1-1.cdninstagram.com/vp/9b32b2b02c81c952f0cfb675138e84e5/5BC98BE5/t51.2885-15/s640x640/sh0.08/e35/35934347_1454923644653631_170564069131026432_n.jpg', 'https://scontent-bom1-1.cdninstagram.com/vp/3a8f7584ad75d39922cd404ecdf5204c/5BE5B662/t51.2885-15/e35/c113.0.542.542/35617574_161649777895516_7002687818120036352_n.jpg', 'https://scontent-bom1-1.cdninstagram.com/vp/1fe8395f6b925679438dca3addd58700/5BECB014/t51.2885-15/sh0.08/e35/s640x640/36160114_478812342548217_8860221174609608704_n.jpg?efg=eyJ1cmxnZW4iOiJ1cmxnZW5fZnJvbV9pZyJ9', 'https://scontent-bom1-1.cdninstagram.com/vp/423dca4cbea89387381c58f674307a2d/5BE98C70/t51.2885-15/s640x640/sh0.08/e35/35948732_168352297358694_4132817669097259008_n.jpg', 'https://scontent-bom1-1.cdninstagram.com/vp/6dd725868a9d4c40501c45b6beb81a21/5BDF6E90/t51.2885-15/s640x640/sh0.08/e35/c0.135.1080.1080/36086487_2165562747053173_3999722976260915200_n.jpg', 'https://scontent-bom1-1.cdninstagram.com/vp/4a46b9e846a7757eedb36c819da59118/5BEAB860/t51.2885-15/s640x640/sh0.08/e35/35999334_1892420520779503_8577021824364183552_n.jpg', 'https://scontent-bom1-1.cdninstagram.com/vp/76134bdb1c0d50198fdb4c73cfc3f584/5B3D7308/t51.2885-15/s640x640/e15/c0.90.720.720/35618176_2123278267928773_3536480173220167680_n.jpg', 'https://scontent-bom1-1.cdninstagram.com/vp/fc82628462a7abdb91c5f1ad56de36c6/5BDFE264/t51.2885-15/s640x640/sh0.08/e35/c114.0.852.852/36023010_197900997593627_6498220312654512128_n.jpg', 'https://scontent-bom1-1.cdninstagram.com/vp/2f0634416558580da5262e69abaf382d/5BDF54F1/t51.2885-15/s640x640/sh0.08/e35/36575027_2069964146560341_7357073528287395840_n.jpg', 'https://scontent-bom1-1.cdninstagram.com/vp/7fb08dcd02a45a6a8c87215374f04c8c/5BD76C76/t51.2885-15/sh0.08/e35/c0.62.1080.1080/s640x640/36085368_2075062599420363_6055533339056537600_n.jpg?efg=eyJ1cmxnZW4iOiJ1cmxnZW5fZnJvbV9pZyJ9', 'https://scontent-bom1-1.cdninstagram.com/vp/f1f513e6f55e4d543203ab4bbe7c7d87/5BE964BC/t51.2885-15/s640x640/sh0.08/e35/c135.0.810.810/35616672_744556439222755_8523980271043739648_n.jpg', 'https://scontent-bom1-1.cdninstagram.com/vp/cb07e98213eeb5b67ec9771d134bd6db/5BCB0860/t51.2885-15/e35/c0.58.465.465/36543756_1276343082501933_2371679330238464000_n.jpg', 'https://scontent-bom1-1.cdninstagram.com/vp/c34be5f9c73cc82663bfda07e5ed7eb7/5BE93430/t51.2885-15/sh0.08/e35/s640x640/36086318_445669072576138_316505137998725120_n.jpg?efg=eyJ1cmxnZW4iOiJ1cmxnZW5fZnJvbV9pZyJ9', 'https://scontent-bom1-1.cdninstagram.com/vp/5f489a110c4ba62d51df91451f6f8908/5BD2BB66/t51.2885-15/s640x640/sh0.08/e35/c63.0.953.953/35999243_188199481847369_6674398170329382912_n.jpg', 'https://scontent-bom1-1.cdninstagram.com/vp/733817de3247ba48ae0f3448ccb689e4/5BE617A9/t51.2885-15/s640x640/sh0.08/e35/35574267_1859576071010825_5622431340893831168_n.jpg', 'https://scontent-bom1-1.cdninstagram.com/vp/72a6aacc5f700ca4b941a48fbd7bf564/5BCF7D4E/t51.2885-15/s640x640/sh0.08/e35/35999310_2059039324414308_5729939406014382080_n.jpg', 'https://scontent-bom1-1.cdninstagram.com/vp/530104a09f2c0a8de29abb880d96fb4a/5BE3CF98/t51.2885-15/s640x640/sh0.08/e35/35999680_205164393653516_9101441235331055616_n.jpg', 'https://scontent-bom1-1.cdninstagram.com/vp/ddfe10680d45c00da322b3ee28a37422/5BC8BC65/t51.2885-15/sh0.08/e35/s640x640/35339812_224945608118333_5638777720134434816_n.jpg?efg=eyJ1cmxnZW4iOiJ1cmxnZW5fZnJvbV9pZyJ9', 'https://scontent-bom1-1.cdninstagram.com/vp/8ea16d7d3af1037ff85e2ca9ecc55437/5BE499E0/t51.2885-15/sh0.08/e35/s640x640/29090547_637113866634554_3959230952307163136_n.jpg?efg=eyJ1cmxnZW4iOiJ1cmxnZW5fZnJvbV9pZyJ9', 'https://scontent-bom1-1.cdninstagram.com/vp/331ec80b8c9d9b23fec653ea9b357745/5BC58B1D/t51.2885-15/sh0.08/e35/c135.0.809.809/s640x640/36085575_262835137800730_3435087793636769792_n.jpg?efg=eyJ1cmxnZW4iOiJ1cmxnZW5fZnJvbV9pZyJ9', 'https://scontent-bom1-1.cdninstagram.com/vp/e33ef4825368cee86450012b7115e48a/5BCCEB5E/t51.2885-15/s640x640/sh0.08/e35/36085086_1836999979672228_2701981518099644416_n.jpg']\n"
     ]
    }
   ],
   "source": [
    "#url=\"https://www.instagram.com/\"+inpu+\"/\"\n",
    "url=\"https://www.instagram.com/explore/tags/\"+inpu+\"/?hl=en\"\n",
    "driver.get(url)\n",
    "#limit=200\n",
    "scroll=0\n",
    "if int(limit)>20:\n",
    "    scroll=int(ceil(int(limit)/20))\n",
    "    \n",
    "\n",
    "if scroll!=0:\n",
    "    for i in range(scroll):\n",
    "        htm=driver.find_element_by_tag_name(\"html\")\n",
    "        htm.send_keys(Keys.END)\n",
    "        sleep(1)\n",
    "sleep(3)\n",
    "    \n",
    "b=[]\n",
    "for i in driver.find_elements_by_tag_name(\"img\"):\n",
    "    a=str(i.get_attribute(\"srcset\").decode(\"utf-8\"))\n",
    "    a=a.split(\",\")\n",
    "    b.append(a)\n",
    "\n",
    "#print b\n",
    "\n",
    "links=[]\n",
    "\n",
    "for i in b:\n",
    "    a= len(i)\n",
    "    #print a\n",
    "    if a<5:\n",
    "        links.append(i[-1].split(\" \")[0])\n",
    "    links.append(i[-1].split(\" \")[0])\n",
    "print links\n",
    "\n"
   ]
  },
  {
   "cell_type": "code",
   "execution_count": 23,
   "metadata": {},
   "outputs": [],
   "source": [
    "\n",
    "count=0\n",
    "os.system(\"mkdir C:\\\\Users\\\\User\\\\Desktop\\\\\"+inpu)\n",
    "os.chdir(\"C:\\\\Users\\\\User\\\\Desktop\\\\\"+inpu)\n",
    "for i in links:\n",
    "    f = open(str(count)+\".jpg\",'wb')\n",
    "    f.write(urllib.urlopen(i).read())\n",
    "    count+=1\n",
    "    f.close()\n",
    "\n"
   ]
  }
 ],
 "metadata": {
  "kernelspec": {
   "display_name": "Python 2",
   "language": "python",
   "name": "python2"
  },
  "language_info": {
   "codemirror_mode": {
    "name": "ipython",
    "version": 2
   },
   "file_extension": ".py",
   "mimetype": "text/x-python",
   "name": "python",
   "nbconvert_exporter": "python",
   "pygments_lexer": "ipython2",
   "version": "2.7.15"
  }
 },
 "nbformat": 4,
 "nbformat_minor": 2
}
