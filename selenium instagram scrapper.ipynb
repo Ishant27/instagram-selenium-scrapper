{
 "cells": [
  {
   "cell_type": "code",
   "execution_count": 22,
   "metadata": {},
   "outputs": [],
   "source": [
    "from selenium import webdriver\n",
    "path=\"C:\\Users\\User\\Downloads\\chromedriver_win32\\chromedriver.exe\"  #add chromedriver path\n",
    "driver=webdriver.Chrome(path)\n",
    "from time import sleep\n",
    "from math import ceil\n"
   ]
  },
  {
   "cell_type": "code",
   "execution_count": 23,
   "metadata": {},
   "outputs": [],
   "source": [
    "from selenium.webdriver.common.keys import Keys\n",
    "import urllib\n",
    "import os"
   ]
  },
  {
   "cell_type": "code",
   "execution_count": 25,
   "metadata": {
    "scrolled": true
   },
   "outputs": [],
   "source": [
    "driver.get('https://www.instagram.com/accounts/login')\n",
    "username = driver.find_element_by_xpath('//*[@name=\"username\"]')\n",
    "password = driver.find_element_by_xpath('//*[@name=\"password\"]')\n",
    "username.send_keys(\"username\")  #enter username\n",
    "password.send_keys(\"password\") #enter password\n",
    "\n",
    "sleep(3)\n",
    "\n",
    "a=driver.find_element_by_css_selector(\"._5f5mN\").click()\n",
    "\n"
   ]
  },
  {
   "cell_type": "code",
   "execution_count": 26,
   "metadata": {},
   "outputs": [
    {
     "name": "stdout",
     "output_type": "stream",
     "text": [
      "Enter the hastag and limit: selfie 20\n"
     ]
    }
   ],
   "source": [
    "inp=raw_input(\"Enter the hastag and limit: \")\n",
    "inp=inp.split(\" \")\n",
    "inpu=inp[0]\n",
    "limit=inp[-1]"
   ]
  },
  {
   "cell_type": "code",
   "execution_count": 27,
   "metadata": {},
   "outputs": [],
   "source": [
    "\n",
    "url=\"https://www.instagram.com/explore/tags/\"+inpu+\"/?hl=en\"\n",
    "driver.get(url)\n",
    "\n",
    "scroll=0\n",
    "if int(limit)>20:\n",
    "    scroll=int(ceil(int(limit)/20))\n",
    "    htm=driver.find_element_by_tag_name(\"html\")\n",
    "\n",
    "if scroll!=0:\n",
    "    for i in range(scroll):\n",
    "        htm.send_keys(Keys.END)\n",
    "sleep(3)\n",
    "    \n",
    "b=[]\n",
    "for i in driver.find_elements_by_tag_name(\"img\"):\n",
    "    a=str(i.get_attribute(\"srcset\").decode(\"utf-8\"))\n",
    "    a=a.split(\",\")\n",
    "    b.append(a)\n",
    "b=b[1:]\n",
    "\n",
    "links=[]\n",
    "\n",
    "for i in b:\n",
    "    for j in i:\n",
    "        \n",
    "        links.append(j[:-4])\n",
    "\n",
    "    "
   ]
  },
  {
   "cell_type": "code",
   "execution_count": 28,
   "metadata": {},
   "outputs": [],
   "source": [
    "count=0\n",
    "os.system(\"mkdir C:\\\\Users\\\\User\\\\Desktop\\\\\"+inpu)\n",
    "os.chdir(\"C:\\\\Users\\\\User\\\\Desktop\\\\\"+inpu)\n",
    "for i in links:\n",
    "    f = open(str(count)+\".jpg\",'wb')\n",
    "    f.write(urllib.urlopen(i).read())\n",
    "    count+=1\n",
    "    f.close()\n",
    "\n"
   ]
  },
  {
   "cell_type": "code",
   "execution_count": 13,
   "metadata": {},
   "outputs": [],
   "source": []
  },
  {
   "cell_type": "code",
   "execution_count": null,
   "metadata": {},
   "outputs": [],
   "source": []
  }
 ],
 "metadata": {
  "kernelspec": {
   "display_name": "Python 2",
   "language": "python",
   "name": "python2"
  },
  "language_info": {
   "codemirror_mode": {
    "name": "ipython",
    "version": 2
   },
   "file_extension": ".py",
   "mimetype": "text/x-python",
   "name": "python",
   "nbconvert_exporter": "python",
   "pygments_lexer": "ipython2",
   "version": "2.7.15"
  }
 },
 "nbformat": 4,
 "nbformat_minor": 2
}
