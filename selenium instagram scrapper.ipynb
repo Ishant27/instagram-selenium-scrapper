{
 "cells": [
  {
   "cell_type": "code",
   "execution_count": 1,
   "metadata": {},
   "outputs": [
    {
     "data": {
      "text/plain": [
       "'\\n~`@Image scrapper using selenium. Scrapping hashtag images from instagram\\n~`@for dataset creation.\\n`~@Just change your uername and password.\\n`!@Enter the hasthtag with an integer value limit.\\n@!`Rishabh Jain\\n'"
      ]
     },
     "execution_count": 1,
     "metadata": {},
     "output_type": "execute_result"
    }
   ],
   "source": [
    "from selenium import webdriver\n",
    "path=\"C:\\Users\\User\\Downloads\\chromedriver_win32\\chromedriver.exe\"  #add chromedriver path\n",
    "driver=webdriver.Chrome(path)\n",
    "from time import sleep\n",
    "from math import ceil\n",
    "\"\"\"\n",
    "~`@Image scrapper using selenium. Scrapping hashtag images from instagram\n",
    "~`@for dataset creation.\n",
    "`~@Just change your uername and password.\n",
    "`!@Enter the hasthtag with an integer value limit.\n",
    "@!`Rishabh Jain\n",
    "\"\"\""
   ]
  },
  {
   "cell_type": "code",
   "execution_count": 2,
   "metadata": {},
   "outputs": [],
   "source": [
    "from selenium.webdriver.common.keys import Keys\n",
    "import urllib\n",
    "import os"
   ]
  },
  {
   "cell_type": "code",
   "execution_count": 3,
   "metadata": {
    "scrolled": true
   },
   "outputs": [],
   "source": [
    "driver.get('https://www.instagram.com/accounts/login')\n",
    "username = driver.find_element_by_xpath('//*[@name=\"username\"]')\n",
    "password = driver.find_element_by_xpath('//*[@name=\"password\"]')\n",
    "username.send_keys(\"user\")  #enter username\n",
    "password.send_keys(\"pass\") #enter password\n",
    "\n",
    "sleep(3)\n",
    "\n",
    "a=driver.find_element_by_css_selector(\"._5f5mN\").click()\n",
    "\n"
   ]
  },
  {
   "cell_type": "code",
   "execution_count": 23,
   "metadata": {},
   "outputs": [
    {
     "name": "stdout",
     "output_type": "stream",
     "text": [
      "Enter the hashtag and limit: tomcruise 200\n"
     ]
    }
   ],
   "source": [
    "\n",
    "inp=raw_input(\"Enter the hashtag and limit: \")\n",
    "inp=inp.split(\" \")\n",
    "inpu=inp[0]\n",
    "limit=inp[-1]\n"
   ]
  },
  {
   "cell_type": "code",
   "execution_count": 28,
   "metadata": {},
   "outputs": [
    {
     "name": "stdout",
     "output_type": "stream",
     "text": [
      "scroll 1\n",
      "scroll 2\n",
      "scroll 3\n",
      "scroll 4\n",
      "scroll 5\n",
      "scroll 6\n",
      "scroll 7\n",
      "scroll 8\n",
      "scroll 9\n",
      "scroll 10\n",
      "['', '', '', '', '', '', '', '', '', '', '', '', '', '', '', '', '', '', '', '', '', '', '', '', '', '', '', '', '', '', '', '', '', '', '', '', '', '', '', '', '', '', '', '', '', '', '', '', '', '', '', '', '', '', '', '', '', '', '', '', '', '', '', '', '', '', '', '', '', '', '', '', '', '', '', '', '', '', '', '', '', '', '', '', '', '', '', '', '', '', '', '', '', '', '', '', '', '', '', '', '', '', '', '', '', '', '', '', '', '', '', '', '', '', '', '', '', '', '', '', '', '', '', '', '', '', '', '', '', '', '', '', '', '', '', '', '', '', '', '', '', '', '', '', '', '', '', '', '', '', '', '', '', '', '', '', '', '', '', '', '', '', '', '', '', '', '', '', '', '', '', '', '', '', '', '', '', '', '', '', '', '', '', '', '', '', '', '', '', '', '', '', '', '', '', '', '', '', '', '', '', '', '', '', '', '', '', '', '', '']\n"
     ]
    }
   ],
   "source": [
    "#url=\"https://www.instagram.com/\"+inpu+\"/\"\n",
    "url=\"https://www.instagram.com/explore/tags/\"+inpu+\"/?hl=en\"\n",
    "driver.get(url)\n",
    "#limit=200\n",
    "scroll=0\n",
    "b=[]\n",
    "if int(limit)>20:\n",
    "    scroll=int(ceil(int(limit)/20))\n",
    "    \n",
    "\n",
    "if scroll!=0:\n",
    "    for i in range(scroll):\n",
    "        htm=driver.find_element_by_tag_name(\"body\")\n",
    "        \n",
    "        for j in driver.find_elements_by_css_selector(\".FFVAD\"):\n",
    "            a=str(j.get_attribute(\"srcset\").decode(\"utf-8\"))\n",
    "            a=a.split(\",\")\n",
    "            b.append(a)\n",
    "        htm.send_keys(Keys.END)\n",
    "        print \"scroll \"+str(i+1)\n",
    "        sleep(1)\n",
    "sleep(3)\n",
    "    \n",
    "\n",
    "#print  len(driver.find_element_by_css_selector(\".FFVAD\"))\n",
    "\n",
    "\n",
    "#print b\n",
    "\n",
    "links=[]\n",
    "\n",
    "for i in b:\n",
    "    links.append(i[-1].split(\" \")[0])\n",
    "print links\n",
    "\n",
    "links2=[]\n",
    "for i in links:\n",
    "    if len(i)<3:\n",
    "        continue\n",
    "    links2.append(i)\n",
    "links2=list(set(links2))"
   ]
  },
  {
   "cell_type": "code",
   "execution_count": null,
   "metadata": {},
   "outputs": [],
   "source": [
    "\n"
   ]
  },
  {
   "cell_type": "code",
   "execution_count": 27,
   "metadata": {},
   "outputs": [],
   "source": [
    "\n",
    "count=0\n",
    "os.system(\"mkdir C:\\\\Users\\\\User\\\\Desktop\\\\\"+inpu)\n",
    "os.chdir(\"C:\\\\Users\\\\User\\\\Desktop\\\\\"+inpu)\n",
    "for i in links2:\n",
    "    f = open(str(count)+\".jpg\",'wb')\n",
    "    f.write(urllib.urlopen(i).read())\n",
    "    count+=1\n",
    "    f.close()\n",
    "\n"
   ]
  },
  {
   "cell_type": "code",
   "execution_count": null,
   "metadata": {},
   "outputs": [],
   "source": []
  }
 ],
 "metadata": {
  "kernelspec": {
   "display_name": "Python 2",
   "language": "python",
   "name": "python2"
  },
  "language_info": {
   "codemirror_mode": {
    "name": "ipython",
    "version": 2
   },
   "file_extension": ".py",
   "mimetype": "text/x-python",
   "name": "python",
   "nbconvert_exporter": "python",
   "pygments_lexer": "ipython2",
   "version": "2.7.15"
  }
 },
 "nbformat": 4,
 "nbformat_minor": 2
}
